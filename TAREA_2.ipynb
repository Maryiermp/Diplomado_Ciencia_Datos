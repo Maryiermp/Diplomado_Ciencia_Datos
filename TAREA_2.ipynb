{
  "cells": [
    {
      "cell_type": "markdown",
      "metadata": {
        "id": "view-in-github",
        "colab_type": "text"
      },
      "source": [
        "<a href=\"https://colab.research.google.com/github/Maryiermp/Diplomado_Ciencia_Datos/blob/main/TAREA_2.ipynb\" target=\"_parent\"><img src=\"https://colab.research.google.com/assets/colab-badge.svg\" alt=\"Open In Colab\"/></a>"
      ]
    },
    {
      "cell_type": "markdown",
      "id": "b2234550-14a8-4d16-b358-67889a405c15",
      "metadata": {
        "id": "b2234550-14a8-4d16-b358-67889a405c15"
      },
      "source": [
        "# ¿Qué es la varianza?\n",
        "\n",
        "![logo](https://www.calculadoraconversor.com/wp-content/uploads/2016/11/simbolo-desviacion-tipica.png)"
      ]
    },
    {
      "cell_type": "markdown",
      "id": "92c1c644-30a6-4aac-99f4-9c6b1084fc57",
      "metadata": {
        "tags": [],
        "id": "92c1c644-30a6-4aac-99f4-9c6b1084fc57"
      },
      "source": [
        "### Maryi Martínez P.\n",
        "\n",
        "Economista y Especialista en Gobierno, Gerencia y Asuntos Públicos. Con experiencia profesional en el área de presupuesto, principalmente en dependencias administrativas de la Universidad Nacional de Colombia.\n",
        "\n",
        "![MARYI IMAGEN.jpg](data:image/jpeg;base64,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)"
      ]
    },
    {
      "cell_type": "markdown",
      "id": "b6692ce9-a57a-4dbf-93c1-2b177172b20b",
      "metadata": {
        "tags": [],
        "id": "b6692ce9-a57a-4dbf-93c1-2b177172b20b"
      },
      "source": [
        "## Concepto\n",
        "\n",
        "En estadística, la varianza es una medida de dispersión que indica la variabilidad de una variable aleatoria. La varianza es igual a la suma de los cuadrados de los residuos partido por el número total de observaciones.\n",
        "\n",
        "Como residuo se entiende la diferencia entre el valor de un dato estadístico y la media del conjunto de datos.\n",
        "\n",
        "En la teoría de la probabilidad, el símbolo de la varianza es la letra griega sigma elevada al cuadrado *(σ2)*. Aunque también se suele representar como *Var(X)*, siendo *X* la variable aleatoria de la cual se calcula la varianza.\n",
        "\n",
        "En general, la interpretación del valor de la varianza de una variable aleatoria es sencilla. Cuanto más grande sea el valor de la varianza, más dispersos están los datos. Y al revés, cuanto más pequeña sea el valor de la varianza, menos dispersión habrá en la serie de datos. Sin embargo, al interpretar la varianza hay que prestar atención con los valores atípicos (outliers), ya que pueden distorsionar el valor de la varianza.\n",
        "\n",
        "Junto a la varianza, las otras medidas que se consideran de dispersión son el rango, la desviación típica, la desviación media y el coeficiente de variación.\n",
        "\n",
        "![fórmulavarianza.png](data:image/png;base64,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)\n",
        "\n",
        "**Donde:**\n",
        "\n",
        "*X* es la variable aleatoria de la que se quiere calcular la varianza.\n",
        "\n",
        "*x_i* es el valor del dato *i*.\n",
        "\n",
        "*n* es el número total de observaciones.\n",
        "\n",
        "*\\overline{X}* es la media de la variable aleatoria *X*."
      ]
    },
    {
      "cell_type": "markdown",
      "id": "20f3b0a1-d043-4525-b471-7dad3e474ddb",
      "metadata": {
        "id": "20f3b0a1-d043-4525-b471-7dad3e474ddb"
      },
      "source": [
        "## Cómo calcular la varianza\n",
        "\n",
        "Para calcular la varianza se deben hacer los siguientes pasos:\n",
        "\n",
        "1 Hallar la media aritmética del conjunto de datos.\n",
        "\n",
        "2 Calcular los residuos, definidos como la diferencia entre los valores y la media del conjunto de datos.\n",
        "\n",
        "3 Elevar cada residuo al cuadrado.\n",
        "\n",
        "4 Sumar todos los resultados calculados en el paso anterior\n",
        "\n",
        "5 Dividir entre el número total de datos. El resultado obtenido es la varianza de la serie de datos\n",
        "\n",
        "Por lo tanto, para sacar la varianza de una serie de datos es indispensable que sepas cómo se calcula la media aritmética."
      ]
    },
    {
      "cell_type": "markdown",
      "id": "d9cedb1c-40a2-4df5-a59e-5a8262329ff2",
      "metadata": {
        "id": "d9cedb1c-40a2-4df5-a59e-5a8262329ff2"
      },
      "source": [
        "## Ejemplo de varianza\n",
        "\n",
        "De una empresa multinacional se conoce el resultado económico que ha tenido durante los últimos cinco años, en la mayoría ha obtenido beneficios pero un año presentó unas pérdidas considerables: 11, 5, 2, -9, 7 millones de euros. Calcula la varianza de este conjunto de datos.\n",
        "Como hemos visto en la explicación de arriba, lo primero que debemos hacer para hallar la varianza de una serie de datos es calcular su media aritmética:\n",
        "\n",
        "![fórmula](https://www.probabilidadyestadistica.net/wp-content/ql-cache/quicklatex.com-281dbd9cb728f8e716caa543aaa5c603_l3.svg)\n",
        "\n",
        "Sustituimos los datos proporcionados por el enunciado del ejercicio en la fórmula:\n",
        "\n",
        "![logo](https://www.probabilidadyestadistica.net/wp-content/ql-cache/quicklatex.com-b36e023b3e94900e72395c3aa38507c8_l3.svg)\n",
        "\n",
        "Por último, solo queda resolver las operaciones para hacer el cálculo de la varianza:\n",
        "\n",
        "![logo](https://www.probabilidadyestadistica.net/wp-content/ql-cache/quicklatex.com-2ff3345936bfc066e75aa97dc17238ad_l3.svg)"
      ]
    },
    {
      "cell_type": "markdown",
      "id": "e7eb29ff-c323-423e-a707-466b587ebe5b",
      "metadata": {
        "id": "e7eb29ff-c323-423e-a707-466b587ebe5b"
      },
      "source": [
        "### Bibliografía\n",
        "Probabilidad y estadística (https://www.probabilidadyestadistica.net/varianza/)"
      ]
    }
  ],
  "metadata": {
    "kernelspec": {
      "display_name": "Python 3 (ipykernel)",
      "language": "python",
      "name": "python3"
    },
    "language_info": {
      "codemirror_mode": {
        "name": "ipython",
        "version": 3
      },
      "file_extension": ".py",
      "mimetype": "text/x-python",
      "name": "python",
      "nbconvert_exporter": "python",
      "pygments_lexer": "ipython3",
      "version": "3.8.17"
    },
    "colab": {
      "provenance": [],
      "include_colab_link": true
    }
  },
  "nbformat": 4,
  "nbformat_minor": 5
}